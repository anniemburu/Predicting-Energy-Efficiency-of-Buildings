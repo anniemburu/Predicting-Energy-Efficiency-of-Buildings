{
  "nbformat": 4,
  "nbformat_minor": 0,
  "metadata": {
    "colab": {
      "provenance": []
    },
    "kernelspec": {
      "name": "python3",
      "display_name": "Python 3"
    },
    "language_info": {
      "name": "python"
    }
  },
  "cells": [
    {
      "cell_type": "markdown",
      "source": [
        "\n",
        "\n",
        "# ANNE MBURU\n",
        "##\n",
        "\n"
      ],
      "metadata": {
        "id": "T_SeSNMq5xR6"
      }
    },
    {
      "cell_type": "code",
      "execution_count": 1,
      "metadata": {
        "id": "AQ1yCUwcVyt7"
      },
      "outputs": [],
      "source": [
        "import pandas as pd\n",
        "import numpy as np\n",
        "import seaborn as sns\n",
        "import matplotlib.pyplot as plt\n",
        "\n",
        "from sklearn.preprocessing import MinMaxScaler\n",
        "from sklearn.model_selection import train_test_split\n",
        "from sklearn.linear_model import LinearRegression, Ridge, Lasso\n",
        "from sklearn.metrics import mean_absolute_error, mean_squared_error, r2_score\n",
        "from math import sqrt\n",
        "%matplotlib inline"
      ]
    },
    {
      "cell_type": "code",
      "source": [
        "data = pd.read_csv(\"/content/drive/MyDrive/Colab Notebooks/HAMOYE INTERNSHIP/Regression/energydata_complete.csv\")\n",
        "\n",
        "data.head()"
      ],
      "metadata": {
        "colab": {
          "base_uri": "https://localhost:8080/",
          "height": 473
        },
        "id": "G26_ssLsWrd3",
        "outputId": "46106b55-c5f5-4306-9cdb-5d6a3e85747a"
      },
      "execution_count": 2,
      "outputs": [
        {
          "output_type": "execute_result",
          "data": {
            "text/plain": [
              "                  date  Appliances  lights     T1       RH_1    T2       RH_2  \\\n",
              "0  2016-01-11 17:00:00          60      30  19.89  47.596667  19.2  44.790000   \n",
              "1  2016-01-11 17:10:00          60      30  19.89  46.693333  19.2  44.722500   \n",
              "2  2016-01-11 17:20:00          50      30  19.89  46.300000  19.2  44.626667   \n",
              "3  2016-01-11 17:30:00          50      40  19.89  46.066667  19.2  44.590000   \n",
              "4  2016-01-11 17:40:00          60      40  19.89  46.333333  19.2  44.530000   \n",
              "\n",
              "      T3       RH_3         T4  ...         T9   RH_9     T_out  Press_mm_hg  \\\n",
              "0  19.79  44.730000  19.000000  ...  17.033333  45.53  6.600000        733.5   \n",
              "1  19.79  44.790000  19.000000  ...  17.066667  45.56  6.483333        733.6   \n",
              "2  19.79  44.933333  18.926667  ...  17.000000  45.50  6.366667        733.7   \n",
              "3  19.79  45.000000  18.890000  ...  17.000000  45.40  6.250000        733.8   \n",
              "4  19.79  45.000000  18.890000  ...  17.000000  45.40  6.133333        733.9   \n",
              "\n",
              "   RH_out  Windspeed  Visibility  Tdewpoint        rv1        rv2  \n",
              "0    92.0   7.000000   63.000000        5.3  13.275433  13.275433  \n",
              "1    92.0   6.666667   59.166667        5.2  18.606195  18.606195  \n",
              "2    92.0   6.333333   55.333333        5.1  28.642668  28.642668  \n",
              "3    92.0   6.000000   51.500000        5.0  45.410389  45.410389  \n",
              "4    92.0   5.666667   47.666667        4.9  10.084097  10.084097  \n",
              "\n",
              "[5 rows x 29 columns]"
            ],
            "text/html": [
              "\n",
              "  <div id=\"df-1d67b8a3-35dc-423d-92c1-f8622e0afb33\">\n",
              "    <div class=\"colab-df-container\">\n",
              "      <div>\n",
              "<style scoped>\n",
              "    .dataframe tbody tr th:only-of-type {\n",
              "        vertical-align: middle;\n",
              "    }\n",
              "\n",
              "    .dataframe tbody tr th {\n",
              "        vertical-align: top;\n",
              "    }\n",
              "\n",
              "    .dataframe thead th {\n",
              "        text-align: right;\n",
              "    }\n",
              "</style>\n",
              "<table border=\"1\" class=\"dataframe\">\n",
              "  <thead>\n",
              "    <tr style=\"text-align: right;\">\n",
              "      <th></th>\n",
              "      <th>date</th>\n",
              "      <th>Appliances</th>\n",
              "      <th>lights</th>\n",
              "      <th>T1</th>\n",
              "      <th>RH_1</th>\n",
              "      <th>T2</th>\n",
              "      <th>RH_2</th>\n",
              "      <th>T3</th>\n",
              "      <th>RH_3</th>\n",
              "      <th>T4</th>\n",
              "      <th>...</th>\n",
              "      <th>T9</th>\n",
              "      <th>RH_9</th>\n",
              "      <th>T_out</th>\n",
              "      <th>Press_mm_hg</th>\n",
              "      <th>RH_out</th>\n",
              "      <th>Windspeed</th>\n",
              "      <th>Visibility</th>\n",
              "      <th>Tdewpoint</th>\n",
              "      <th>rv1</th>\n",
              "      <th>rv2</th>\n",
              "    </tr>\n",
              "  </thead>\n",
              "  <tbody>\n",
              "    <tr>\n",
              "      <th>0</th>\n",
              "      <td>2016-01-11 17:00:00</td>\n",
              "      <td>60</td>\n",
              "      <td>30</td>\n",
              "      <td>19.89</td>\n",
              "      <td>47.596667</td>\n",
              "      <td>19.2</td>\n",
              "      <td>44.790000</td>\n",
              "      <td>19.79</td>\n",
              "      <td>44.730000</td>\n",
              "      <td>19.000000</td>\n",
              "      <td>...</td>\n",
              "      <td>17.033333</td>\n",
              "      <td>45.53</td>\n",
              "      <td>6.600000</td>\n",
              "      <td>733.5</td>\n",
              "      <td>92.0</td>\n",
              "      <td>7.000000</td>\n",
              "      <td>63.000000</td>\n",
              "      <td>5.3</td>\n",
              "      <td>13.275433</td>\n",
              "      <td>13.275433</td>\n",
              "    </tr>\n",
              "    <tr>\n",
              "      <th>1</th>\n",
              "      <td>2016-01-11 17:10:00</td>\n",
              "      <td>60</td>\n",
              "      <td>30</td>\n",
              "      <td>19.89</td>\n",
              "      <td>46.693333</td>\n",
              "      <td>19.2</td>\n",
              "      <td>44.722500</td>\n",
              "      <td>19.79</td>\n",
              "      <td>44.790000</td>\n",
              "      <td>19.000000</td>\n",
              "      <td>...</td>\n",
              "      <td>17.066667</td>\n",
              "      <td>45.56</td>\n",
              "      <td>6.483333</td>\n",
              "      <td>733.6</td>\n",
              "      <td>92.0</td>\n",
              "      <td>6.666667</td>\n",
              "      <td>59.166667</td>\n",
              "      <td>5.2</td>\n",
              "      <td>18.606195</td>\n",
              "      <td>18.606195</td>\n",
              "    </tr>\n",
              "    <tr>\n",
              "      <th>2</th>\n",
              "      <td>2016-01-11 17:20:00</td>\n",
              "      <td>50</td>\n",
              "      <td>30</td>\n",
              "      <td>19.89</td>\n",
              "      <td>46.300000</td>\n",
              "      <td>19.2</td>\n",
              "      <td>44.626667</td>\n",
              "      <td>19.79</td>\n",
              "      <td>44.933333</td>\n",
              "      <td>18.926667</td>\n",
              "      <td>...</td>\n",
              "      <td>17.000000</td>\n",
              "      <td>45.50</td>\n",
              "      <td>6.366667</td>\n",
              "      <td>733.7</td>\n",
              "      <td>92.0</td>\n",
              "      <td>6.333333</td>\n",
              "      <td>55.333333</td>\n",
              "      <td>5.1</td>\n",
              "      <td>28.642668</td>\n",
              "      <td>28.642668</td>\n",
              "    </tr>\n",
              "    <tr>\n",
              "      <th>3</th>\n",
              "      <td>2016-01-11 17:30:00</td>\n",
              "      <td>50</td>\n",
              "      <td>40</td>\n",
              "      <td>19.89</td>\n",
              "      <td>46.066667</td>\n",
              "      <td>19.2</td>\n",
              "      <td>44.590000</td>\n",
              "      <td>19.79</td>\n",
              "      <td>45.000000</td>\n",
              "      <td>18.890000</td>\n",
              "      <td>...</td>\n",
              "      <td>17.000000</td>\n",
              "      <td>45.40</td>\n",
              "      <td>6.250000</td>\n",
              "      <td>733.8</td>\n",
              "      <td>92.0</td>\n",
              "      <td>6.000000</td>\n",
              "      <td>51.500000</td>\n",
              "      <td>5.0</td>\n",
              "      <td>45.410389</td>\n",
              "      <td>45.410389</td>\n",
              "    </tr>\n",
              "    <tr>\n",
              "      <th>4</th>\n",
              "      <td>2016-01-11 17:40:00</td>\n",
              "      <td>60</td>\n",
              "      <td>40</td>\n",
              "      <td>19.89</td>\n",
              "      <td>46.333333</td>\n",
              "      <td>19.2</td>\n",
              "      <td>44.530000</td>\n",
              "      <td>19.79</td>\n",
              "      <td>45.000000</td>\n",
              "      <td>18.890000</td>\n",
              "      <td>...</td>\n",
              "      <td>17.000000</td>\n",
              "      <td>45.40</td>\n",
              "      <td>6.133333</td>\n",
              "      <td>733.9</td>\n",
              "      <td>92.0</td>\n",
              "      <td>5.666667</td>\n",
              "      <td>47.666667</td>\n",
              "      <td>4.9</td>\n",
              "      <td>10.084097</td>\n",
              "      <td>10.084097</td>\n",
              "    </tr>\n",
              "  </tbody>\n",
              "</table>\n",
              "<p>5 rows × 29 columns</p>\n",
              "</div>\n",
              "      <button class=\"colab-df-convert\" onclick=\"convertToInteractive('df-1d67b8a3-35dc-423d-92c1-f8622e0afb33')\"\n",
              "              title=\"Convert this dataframe to an interactive table.\"\n",
              "              style=\"display:none;\">\n",
              "        \n",
              "  <svg xmlns=\"http://www.w3.org/2000/svg\" height=\"24px\"viewBox=\"0 0 24 24\"\n",
              "       width=\"24px\">\n",
              "    <path d=\"M0 0h24v24H0V0z\" fill=\"none\"/>\n",
              "    <path d=\"M18.56 5.44l.94 2.06.94-2.06 2.06-.94-2.06-.94-.94-2.06-.94 2.06-2.06.94zm-11 1L8.5 8.5l.94-2.06 2.06-.94-2.06-.94L8.5 2.5l-.94 2.06-2.06.94zm10 10l.94 2.06.94-2.06 2.06-.94-2.06-.94-.94-2.06-.94 2.06-2.06.94z\"/><path d=\"M17.41 7.96l-1.37-1.37c-.4-.4-.92-.59-1.43-.59-.52 0-1.04.2-1.43.59L10.3 9.45l-7.72 7.72c-.78.78-.78 2.05 0 2.83L4 21.41c.39.39.9.59 1.41.59.51 0 1.02-.2 1.41-.59l7.78-7.78 2.81-2.81c.8-.78.8-2.07 0-2.86zM5.41 20L4 18.59l7.72-7.72 1.47 1.35L5.41 20z\"/>\n",
              "  </svg>\n",
              "      </button>\n",
              "      \n",
              "  <style>\n",
              "    .colab-df-container {\n",
              "      display:flex;\n",
              "      flex-wrap:wrap;\n",
              "      gap: 12px;\n",
              "    }\n",
              "\n",
              "    .colab-df-convert {\n",
              "      background-color: #E8F0FE;\n",
              "      border: none;\n",
              "      border-radius: 50%;\n",
              "      cursor: pointer;\n",
              "      display: none;\n",
              "      fill: #1967D2;\n",
              "      height: 32px;\n",
              "      padding: 0 0 0 0;\n",
              "      width: 32px;\n",
              "    }\n",
              "\n",
              "    .colab-df-convert:hover {\n",
              "      background-color: #E2EBFA;\n",
              "      box-shadow: 0px 1px 2px rgba(60, 64, 67, 0.3), 0px 1px 3px 1px rgba(60, 64, 67, 0.15);\n",
              "      fill: #174EA6;\n",
              "    }\n",
              "\n",
              "    [theme=dark] .colab-df-convert {\n",
              "      background-color: #3B4455;\n",
              "      fill: #D2E3FC;\n",
              "    }\n",
              "\n",
              "    [theme=dark] .colab-df-convert:hover {\n",
              "      background-color: #434B5C;\n",
              "      box-shadow: 0px 1px 3px 1px rgba(0, 0, 0, 0.15);\n",
              "      filter: drop-shadow(0px 1px 2px rgba(0, 0, 0, 0.3));\n",
              "      fill: #FFFFFF;\n",
              "    }\n",
              "  </style>\n",
              "\n",
              "      <script>\n",
              "        const buttonEl =\n",
              "          document.querySelector('#df-1d67b8a3-35dc-423d-92c1-f8622e0afb33 button.colab-df-convert');\n",
              "        buttonEl.style.display =\n",
              "          google.colab.kernel.accessAllowed ? 'block' : 'none';\n",
              "\n",
              "        async function convertToInteractive(key) {\n",
              "          const element = document.querySelector('#df-1d67b8a3-35dc-423d-92c1-f8622e0afb33');\n",
              "          const dataTable =\n",
              "            await google.colab.kernel.invokeFunction('convertToInteractive',\n",
              "                                                     [key], {});\n",
              "          if (!dataTable) return;\n",
              "\n",
              "          const docLinkHtml = 'Like what you see? Visit the ' +\n",
              "            '<a target=\"_blank\" href=https://colab.research.google.com/notebooks/data_table.ipynb>data table notebook</a>'\n",
              "            + ' to learn more about interactive tables.';\n",
              "          element.innerHTML = '';\n",
              "          dataTable['output_type'] = 'display_data';\n",
              "          await google.colab.output.renderOutput(dataTable, element);\n",
              "          const docLink = document.createElement('div');\n",
              "          docLink.innerHTML = docLinkHtml;\n",
              "          element.appendChild(docLink);\n",
              "        }\n",
              "      </script>\n",
              "    </div>\n",
              "  </div>\n",
              "  "
            ]
          },
          "metadata": {},
          "execution_count": 2
        }
      ]
    },
    {
      "cell_type": "code",
      "source": [
        "data.columns"
      ],
      "metadata": {
        "colab": {
          "base_uri": "https://localhost:8080/"
        },
        "id": "y2D0ajW3XJzz",
        "outputId": "85f83cb4-f521-438c-ad04-3e3718e9eae7"
      },
      "execution_count": 3,
      "outputs": [
        {
          "output_type": "execute_result",
          "data": {
            "text/plain": [
              "Index(['date', 'Appliances', 'lights', 'T1', 'RH_1', 'T2', 'RH_2', 'T3',\n",
              "       'RH_3', 'T4', 'RH_4', 'T5', 'RH_5', 'T6', 'RH_6', 'T7', 'RH_7', 'T8',\n",
              "       'RH_8', 'T9', 'RH_9', 'T_out', 'Press_mm_hg', 'RH_out', 'Windspeed',\n",
              "       'Visibility', 'Tdewpoint', 'rv1', 'rv2'],\n",
              "      dtype='object')"
            ]
          },
          "metadata": {},
          "execution_count": 3
        }
      ]
    },
    {
      "cell_type": "code",
      "source": [
        "#check info\n",
        "data.info()"
      ],
      "metadata": {
        "colab": {
          "base_uri": "https://localhost:8080/"
        },
        "id": "F_HHIlO3XM9-",
        "outputId": "52924129-4996-4e26-f533-9797cf39f18b"
      },
      "execution_count": 4,
      "outputs": [
        {
          "output_type": "stream",
          "name": "stdout",
          "text": [
            "<class 'pandas.core.frame.DataFrame'>\n",
            "RangeIndex: 19735 entries, 0 to 19734\n",
            "Data columns (total 29 columns):\n",
            " #   Column       Non-Null Count  Dtype  \n",
            "---  ------       --------------  -----  \n",
            " 0   date         19735 non-null  object \n",
            " 1   Appliances   19735 non-null  int64  \n",
            " 2   lights       19735 non-null  int64  \n",
            " 3   T1           19735 non-null  float64\n",
            " 4   RH_1         19735 non-null  float64\n",
            " 5   T2           19735 non-null  float64\n",
            " 6   RH_2         19735 non-null  float64\n",
            " 7   T3           19735 non-null  float64\n",
            " 8   RH_3         19735 non-null  float64\n",
            " 9   T4           19735 non-null  float64\n",
            " 10  RH_4         19735 non-null  float64\n",
            " 11  T5           19735 non-null  float64\n",
            " 12  RH_5         19735 non-null  float64\n",
            " 13  T6           19735 non-null  float64\n",
            " 14  RH_6         19735 non-null  float64\n",
            " 15  T7           19735 non-null  float64\n",
            " 16  RH_7         19735 non-null  float64\n",
            " 17  T8           19735 non-null  float64\n",
            " 18  RH_8         19735 non-null  float64\n",
            " 19  T9           19735 non-null  float64\n",
            " 20  RH_9         19735 non-null  float64\n",
            " 21  T_out        19735 non-null  float64\n",
            " 22  Press_mm_hg  19735 non-null  float64\n",
            " 23  RH_out       19735 non-null  float64\n",
            " 24  Windspeed    19735 non-null  float64\n",
            " 25  Visibility   19735 non-null  float64\n",
            " 26  Tdewpoint    19735 non-null  float64\n",
            " 27  rv1          19735 non-null  float64\n",
            " 28  rv2          19735 non-null  float64\n",
            "dtypes: float64(26), int64(2), object(1)\n",
            "memory usage: 4.4+ MB\n"
          ]
        }
      ]
    },
    {
      "cell_type": "code",
      "source": [
        "corr_dict = {}"
      ],
      "metadata": {
        "id": "oNXD87EthIHV"
      },
      "execution_count": null,
      "outputs": []
    },
    {
      "cell_type": "code",
      "source": [
        "\"\"\"\n",
        "corr_dict = {}\n",
        "for col1 in corr_cols:\n",
        "  temp = []\n",
        "  col = \"col1\"\n",
        "\n",
        "  #check corresponding correlations\n",
        "  for col2 in corr_cols:\n",
        "    if (correlated_info.at[col1,col2] >= 0.8) or (correlated_info.at[col1,col2] <= -0.8):\n",
        "      temp.append(col2)\n",
        "\n",
        "  #match to the column\n",
        "  corr_dict[col1] = temp\"\"\""
      ],
      "metadata": {
        "id": "eoN3-cY6hzEM",
        "colab": {
          "base_uri": "https://localhost:8080/",
          "height": 71
        },
        "outputId": "7a547e2e-ec44-4cf8-90c8-12b2e949dc3e"
      },
      "execution_count": null,
      "outputs": [
        {
          "output_type": "execute_result",
          "data": {
            "text/plain": [
              "'\\ncorr_dict = {}\\nfor col1 in corr_cols:\\n  temp = []\\n  col = \"col1\"\\n\\n  #check corresponding correlations\\n  for col2 in corr_cols:\\n    if (correlated_info.at[col1,col2] >= 0.8) or (correlated_info.at[col1,col2] <= -0.8):\\n      temp.append(col2)\\n\\n  #match to the column\\n  corr_dict[col1] = temp'"
            ],
            "application/vnd.google.colaboratory.intrinsic+json": {
              "type": "string"
            }
          },
          "metadata": {},
          "execution_count": 6
        }
      ]
    },
    {
      "cell_type": "markdown",
      "source": [
        "## Modelling"
      ],
      "metadata": {
        "id": "Sp648MXsYthI"
      }
    },
    {
      "cell_type": "markdown",
      "source": [
        "## **From the dataset, fit a linear model on the relationship between the temperature in the living room in Celsius (x = T2) and the temperature outside the building (y = T6). What is the R^2 value in two d.p.?**"
      ],
      "metadata": {
        "id": "i9gosYA228o7"
      }
    },
    {
      "cell_type": "code",
      "source": [
        "#Get Data\n",
        "X = data[['T2']]\n",
        "Y = data[['T6']]\n",
        "\n",
        "#split train and test\n",
        "X_train, X_test, y_train, y_test = train_test_split(X, Y, test_size=0.3, random_state=1)\n",
        "\n",
        "### model data\n",
        "#init model\n",
        "linear_model = LinearRegression()\n",
        "\n",
        "#fit model\n",
        "linear_model.fit(X_train, y_train)\n",
        "\n",
        "#predict\n",
        "y_pred1 = linear_model.predict(X_test)"
      ],
      "metadata": {
        "id": "b76JLuaSzYlO"
      },
      "execution_count": 5,
      "outputs": []
    },
    {
      "cell_type": "code",
      "source": [
        "#r2 score\n",
        "\n",
        "r2_scores = r2_score(y_test, y_pred1)\n",
        "\n",
        "print(round(r2_scores, 2))"
      ],
      "metadata": {
        "colab": {
          "base_uri": "https://localhost:8080/"
        },
        "id": "OpFpz2k3zQeP",
        "outputId": "fcf8e469-9193-4627-8288-aead6d7b0111"
      },
      "execution_count": 6,
      "outputs": [
        {
          "output_type": "stream",
          "name": "stdout",
          "text": [
            "0.65\n"
          ]
        }
      ]
    },
    {
      "cell_type": "markdown",
      "source": [
        "## PART 2\n",
        "Normalize the dataset using the MinMaxScaler after removing the following columns: [“date”, “lights”]. The target variable is “Appliances”. Use a 70-30 train-test set split with a random state of 42 (for reproducibility). Run a multiple linear regression using the training set and evaluate your model on the test set. Answer the following questions:"
      ],
      "metadata": {
        "id": "KXrCG8o93_Hu"
      }
    },
    {
      "cell_type": "code",
      "source": [
        "## NEW DATA SPLIT\n",
        "data.columns"
      ],
      "metadata": {
        "colab": {
          "base_uri": "https://localhost:8080/"
        },
        "id": "OrPVI66d4aDW",
        "outputId": "dbddef92-b127-459a-ace4-8e527790f32e"
      },
      "execution_count": 7,
      "outputs": [
        {
          "output_type": "execute_result",
          "data": {
            "text/plain": [
              "Index(['date', 'Appliances', 'lights', 'T1', 'RH_1', 'T2', 'RH_2', 'T3',\n",
              "       'RH_3', 'T4', 'RH_4', 'T5', 'RH_5', 'T6', 'RH_6', 'T7', 'RH_7', 'T8',\n",
              "       'RH_8', 'T9', 'RH_9', 'T_out', 'Press_mm_hg', 'RH_out', 'Windspeed',\n",
              "       'Visibility', 'Tdewpoint', 'rv1', 'rv2'],\n",
              "      dtype='object')"
            ]
          },
          "metadata": {},
          "execution_count": 7
        }
      ]
    },
    {
      "cell_type": "code",
      "source": [
        "new_data = data.drop([\"date\", \"lights\"], axis = 1)\n",
        "\n",
        "new_data.columns"
      ],
      "metadata": {
        "colab": {
          "base_uri": "https://localhost:8080/"
        },
        "id": "_jdH7ZIH4095",
        "outputId": "54f93045-8b3e-42fd-f484-4f653cde44ca"
      },
      "execution_count": 8,
      "outputs": [
        {
          "output_type": "execute_result",
          "data": {
            "text/plain": [
              "Index(['Appliances', 'T1', 'RH_1', 'T2', 'RH_2', 'T3', 'RH_3', 'T4', 'RH_4',\n",
              "       'T5', 'RH_5', 'T6', 'RH_6', 'T7', 'RH_7', 'T8', 'RH_8', 'T9', 'RH_9',\n",
              "       'T_out', 'Press_mm_hg', 'RH_out', 'Windspeed', 'Visibility',\n",
              "       'Tdewpoint', 'rv1', 'rv2'],\n",
              "      dtype='object')"
            ]
          },
          "metadata": {},
          "execution_count": 8
        }
      ]
    },
    {
      "cell_type": "code",
      "source": [
        "#scale data\n",
        "scaler = MinMaxScaler()\n",
        "\n",
        "#normalize data\n",
        "normalized_data = pd.DataFrame(scaler.fit_transform(new_data), columns = new_data.columns)\n",
        "\n",
        "#features variable\n",
        "features_df = normalized_data.drop([\"Appliances\"], axis = 1)\n",
        "\n",
        "#predictor variable\n",
        "predictor_df = normalized_data[\"Appliances\"]"
      ],
      "metadata": {
        "id": "3REPcswf5uJE"
      },
      "execution_count": 9,
      "outputs": []
    },
    {
      "cell_type": "code",
      "source": [
        "\n",
        "#split train and test\n",
        "X_train, X_test, y_train, y_test = train_test_split(features_df, predictor_df, test_size=0.3, random_state=42)\n",
        "\n",
        "### model data\n",
        "#init model\n",
        "linear_model = LinearRegression()\n",
        "\n",
        "#fit model\n",
        "linear_model.fit(X_train, y_train)\n",
        "\n",
        "#predict\n",
        "y_pred = linear_model.predict(X_test)"
      ],
      "metadata": {
        "id": "C_l0QotF6oap"
      },
      "execution_count": 10,
      "outputs": []
    },
    {
      "cell_type": "markdown",
      "source": [
        "### What is the Mean Absolute Error (in two decimal places)?"
      ],
      "metadata": {
        "id": "rX4ijCjP4JQf"
      }
    },
    {
      "cell_type": "code",
      "source": [
        "## MAE\n",
        "mae = mean_absolute_error(y_test, y_pred)\n",
        "\n",
        "print(\"The Mean Absolute Value is {}\".format(round(mae, 2)))"
      ],
      "metadata": {
        "colab": {
          "base_uri": "https://localhost:8080/"
        },
        "id": "oHSDRGP-sqWc",
        "outputId": "851968c2-3313-43d8-9662-bee30586e4f6"
      },
      "execution_count": 11,
      "outputs": [
        {
          "output_type": "stream",
          "name": "stdout",
          "text": [
            "The Mean Absolute Value is 0.05\n"
          ]
        }
      ]
    },
    {
      "cell_type": "markdown",
      "source": [
        "### What is the Residual Sum of Squares (in two decimal places)?"
      ],
      "metadata": {
        "id": "jD6Qy9fR7wVG"
      }
    },
    {
      "cell_type": "code",
      "source": [
        "## rss\n",
        "rss = np.sum(np.square(y_test - y_pred))\n",
        "print(\"The RSS is {}\".format(round(rss, 2)))"
      ],
      "metadata": {
        "colab": {
          "base_uri": "https://localhost:8080/"
        },
        "id": "pfvrmGcAvSvT",
        "outputId": "7fc41376-ceaa-4444-988c-621cf3fd4e83"
      },
      "execution_count": 12,
      "outputs": [
        {
          "output_type": "stream",
          "name": "stdout",
          "text": [
            "The RSS is 45.35\n"
          ]
        }
      ]
    },
    {
      "cell_type": "markdown",
      "source": [
        "### What is the Root Mean Squared Error (in three decimal places)?"
      ],
      "metadata": {
        "id": "IQBx39AC7_Dj"
      }
    },
    {
      "cell_type": "code",
      "source": [
        "rmse = sqrt(mean_squared_error(y_test, y_pred))\n",
        "\n",
        "print(\"The RMSE is {}\".format(round(rmse, 3)))"
      ],
      "metadata": {
        "colab": {
          "base_uri": "https://localhost:8080/"
        },
        "id": "8-lzbFm6v-oP",
        "outputId": "da35e05c-7cd1-4730-940b-d678b0733ea7"
      },
      "execution_count": 13,
      "outputs": [
        {
          "output_type": "stream",
          "name": "stdout",
          "text": [
            "The RMSE is 0.088\n"
          ]
        }
      ]
    },
    {
      "cell_type": "markdown",
      "source": [
        "### What is the Coefficient of Determination (in two decimal places)?"
      ],
      "metadata": {
        "id": "0BJ-fyae38ny"
      }
    },
    {
      "cell_type": "code",
      "source": [
        "#r2 score\n",
        "\n",
        "r2_scores = r2_score(y_test, y_pred)\n",
        "\n",
        "print(\"Coefficient of Determination Score is {}\".format(round(r2_scores, 2)))"
      ],
      "metadata": {
        "colab": {
          "base_uri": "https://localhost:8080/"
        },
        "id": "a_CEIYLd-yMe",
        "outputId": "6354a9ec-4fe5-4617-fa53-9a5358d96183"
      },
      "execution_count": 14,
      "outputs": [
        {
          "output_type": "stream",
          "name": "stdout",
          "text": [
            "Coefficient of Determination Score is 0.15\n"
          ]
        }
      ]
    },
    {
      "cell_type": "markdown",
      "source": [
        "### Obtain the feature weights from your linear model above. Which features have the lowest and highest weights respectively?"
      ],
      "metadata": {
        "id": "rSwoMKJt_I8t"
      }
    },
    {
      "cell_type": "code",
      "source": [
        "#Weights\n",
        "cols = list(linear_model.feature_names_in_)\n",
        "weights = list(linear_model.coef_)"
      ],
      "metadata": {
        "id": "OOcgGfVf_Kea"
      },
      "execution_count": 15,
      "outputs": []
    },
    {
      "cell_type": "code",
      "source": [
        "weights_dict = {}\n",
        "\n",
        "for col in cols:\n",
        "  for weight in weights:\n",
        "      weights_dict[col] = weight\n",
        "      weights.remove(weight)\n",
        "      break\n",
        "\n",
        "#weights and corresponding column\n",
        "weights_dict"
      ],
      "metadata": {
        "colab": {
          "base_uri": "https://localhost:8080/"
        },
        "id": "OB-NSJamCH0x",
        "outputId": "93a61d6c-c656-4367-ba48-a715e6960869"
      },
      "execution_count": 16,
      "outputs": [
        {
          "output_type": "execute_result",
          "data": {
            "text/plain": [
              "{'T1': -0.0032810511943449955,\n",
              " 'RH_1': 0.5535465998386385,\n",
              " 'T2': -0.23617791869490953,\n",
              " 'RH_2': -0.45669794833849897,\n",
              " 'T3': 0.290627137497035,\n",
              " 'RH_3': 0.09604827330604822,\n",
              " 'T4': 0.028980998554440855,\n",
              " 'RH_4': 0.02638577689180207,\n",
              " 'T5': -0.015656842778628367,\n",
              " 'RH_5': 0.01600578842813376,\n",
              " 'T6': 0.23642490886650835,\n",
              " 'RH_6': 0.03804865205895018,\n",
              " 'T7': 0.010318776387943214,\n",
              " 'RH_7': -0.044613637361088164,\n",
              " 'T8': 0.10199504524367516,\n",
              " 'RH_8': -0.15759547759013165,\n",
              " 'T9': -0.18994077300830786,\n",
              " 'RH_9': -0.0398003166168215,\n",
              " 'T_out': -0.321859668130085,\n",
              " 'Press_mm_hg': 0.006839326382765933,\n",
              " 'RH_out': -0.07767065318166695,\n",
              " 'Windspeed': 0.02918312919843023,\n",
              " 'Visibility': 0.012306608976810735,\n",
              " 'Tdewpoint': 0.11775773489644314,\n",
              " 'rv1': 0.0007700981331761158,\n",
              " 'rv2': 0.0007700981331772764}"
            ]
          },
          "metadata": {},
          "execution_count": 16
        }
      ]
    },
    {
      "cell_type": "code",
      "source": [
        "#sort dictionary\n",
        "sorted_dict = sorted(weights_dict.items(), key=lambda x:x[1])\n",
        "\n",
        "sorted_dict"
      ],
      "metadata": {
        "id": "I4vjIWzNDnxV",
        "colab": {
          "base_uri": "https://localhost:8080/"
        },
        "outputId": "b136f99f-66c4-4148-8400-d397d6f5a365"
      },
      "execution_count": 17,
      "outputs": [
        {
          "output_type": "execute_result",
          "data": {
            "text/plain": [
              "[('RH_2', -0.45669794833849897),\n",
              " ('T_out', -0.321859668130085),\n",
              " ('T2', -0.23617791869490953),\n",
              " ('T9', -0.18994077300830786),\n",
              " ('RH_8', -0.15759547759013165),\n",
              " ('RH_out', -0.07767065318166695),\n",
              " ('RH_7', -0.044613637361088164),\n",
              " ('RH_9', -0.0398003166168215),\n",
              " ('T5', -0.015656842778628367),\n",
              " ('T1', -0.0032810511943449955),\n",
              " ('rv1', 0.0007700981331761158),\n",
              " ('rv2', 0.0007700981331772764),\n",
              " ('Press_mm_hg', 0.006839326382765933),\n",
              " ('T7', 0.010318776387943214),\n",
              " ('Visibility', 0.012306608976810735),\n",
              " ('RH_5', 0.01600578842813376),\n",
              " ('RH_4', 0.02638577689180207),\n",
              " ('T4', 0.028980998554440855),\n",
              " ('Windspeed', 0.02918312919843023),\n",
              " ('RH_6', 0.03804865205895018),\n",
              " ('RH_3', 0.09604827330604822),\n",
              " ('T8', 0.10199504524367516),\n",
              " ('Tdewpoint', 0.11775773489644314),\n",
              " ('T6', 0.23642490886650835),\n",
              " ('T3', 0.290627137497035),\n",
              " ('RH_1', 0.5535465998386385)]"
            ]
          },
          "metadata": {},
          "execution_count": 17
        }
      ]
    },
    {
      "cell_type": "code",
      "source": [
        "#Lowest\n",
        "lowest = list(sorted_dict)[0][0]\n",
        "\n",
        "highest = list(sorted_dict)[-1][0]\n",
        "\n",
        "print(\"Variable with lowest weights : {} \\n Variables with highest Weights: {}\".format(lowest, highest))"
      ],
      "metadata": {
        "colab": {
          "base_uri": "https://localhost:8080/"
        },
        "id": "6A-503CjFJEW",
        "outputId": "b897cdf4-313a-42c5-8cae-834d7d678873"
      },
      "execution_count": 18,
      "outputs": [
        {
          "output_type": "stream",
          "name": "stdout",
          "text": [
            "Variable with lowest weights : RH_2 \n",
            " Variables with highest Weights: RH_1\n"
          ]
        }
      ]
    },
    {
      "cell_type": "markdown",
      "source": [
        "### Train a ridge regression model with an alpha value of 0.4. Is there any change to the root mean squared error (RMSE) when evaluated on the test set?\n"
      ],
      "metadata": {
        "id": "6fka0zAxKqtZ"
      }
    },
    {
      "cell_type": "code",
      "source": [
        "ridge_reg =  Ridge(alpha = 0.4)\n",
        "\n",
        "ridge_reg.fit(X_train, y_train)\n",
        "\n",
        "y_pred = ridge_reg.predict(X_test)\n",
        "\n",
        "rmse = sqrt(mean_squared_error(y_test, y_pred))\n",
        "\n",
        "print(\"The RMSE is {}\".format(round(rmse, 3)))"
      ],
      "metadata": {
        "colab": {
          "base_uri": "https://localhost:8080/"
        },
        "id": "9EWy48SDKzWh",
        "outputId": "e1f6fe34-cee2-4ae9-ee2f-88fdc31dedf6"
      },
      "execution_count": 19,
      "outputs": [
        {
          "output_type": "stream",
          "name": "stdout",
          "text": [
            "The RMSE is 0.088\n"
          ]
        }
      ]
    },
    {
      "cell_type": "markdown",
      "source": [
        "### Train a lasso regression model with an alpha value of 0.001 and obtain the new feature weights with it. How many of the features have non-zero feature weights?"
      ],
      "metadata": {
        "id": "XkF2gZgaHxzK"
      }
    },
    {
      "cell_type": "code",
      "source": [
        "lasso_reg =  Lasso(alpha = 0.001)\n",
        "\n",
        "lasso_reg.fit(X_train, y_train)\n",
        "\n",
        "lasso_coefs = lasso_reg.coef_\n",
        "\n",
        "print(\"Number of Non-Zero coefficients: {}\".format(np.count_nonzero(lasso_coefs)))\n"
      ],
      "metadata": {
        "colab": {
          "base_uri": "https://localhost:8080/"
        },
        "id": "sEjls0niH0Db",
        "outputId": "ea9e4ada-31d5-4043-bb3d-e70c59a65f8c"
      },
      "execution_count": 20,
      "outputs": [
        {
          "output_type": "stream",
          "name": "stdout",
          "text": [
            "Number of Non-Zero coefficients: 4\n"
          ]
        }
      ]
    },
    {
      "cell_type": "markdown",
      "source": [
        "\n",
        "### What is the new RMSE with the lasso regression? (Answer should be in three (3) decimal places)"
      ],
      "metadata": {
        "id": "-zlAplbWWtQl"
      }
    },
    {
      "cell_type": "code",
      "source": [
        "y_pred = lasso_reg.predict(X_test)\n",
        "\n",
        "rmse = sqrt(mean_squared_error(y_test, y_pred))\n",
        "\n",
        "print(\"The RMSE is {}\".format(round(rmse, 3)))"
      ],
      "metadata": {
        "colab": {
          "base_uri": "https://localhost:8080/"
        },
        "id": "0JbWgFXyKWlb",
        "outputId": "bbe1168a-0cfa-4be3-9634-5dd343989082"
      },
      "execution_count": 21,
      "outputs": [
        {
          "output_type": "stream",
          "name": "stdout",
          "text": [
            "The RMSE is 0.094\n"
          ]
        }
      ]
    }
  ]
}